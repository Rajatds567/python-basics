{
 "cells": [
  {
   "cell_type": "markdown",
   "id": "2b0474c5",
   "metadata": {},
   "source": [
    "## What is Python Operator?\n",
    "\n",
    "## Python operator is a symbol that performs an operation on one or more operands. An operand is a variable or a value on which we perform the operation.\n",
    "\n",
    "## Python Operator falls into 6 categories:\n",
    "## 1.Arithmetic Operator\n",
    "## 2.Relational Operator\n",
    "## 3.Assignment Operator\n",
    "## 4.Logical Operator\n",
    "## 5.Membership Operator\n",
    "## 6.Identity Operator"
   ]
  },
  {
   "cell_type": "code",
   "execution_count": 1,
   "id": "1398b01b",
   "metadata": {},
   "outputs": [
    {
     "data": {
      "text/plain": [
       "7"
      ]
     },
     "execution_count": 1,
     "metadata": {},
     "output_type": "execute_result"
    }
   ],
   "source": [
    "#Addition(+)\n",
    "\n",
    "#Adds the values on either side of the operator.\n",
    "\n",
    "3+4"
   ]
  },
  {
   "cell_type": "code",
   "execution_count": 2,
   "id": "9512cd67",
   "metadata": {},
   "outputs": [
    {
     "data": {
      "text/plain": [
       "-1"
      ]
     },
     "execution_count": 2,
     "metadata": {},
     "output_type": "execute_result"
    }
   ],
   "source": [
    "# b. Subtraction(-)\n",
    "# Subtracts the value on the right from the one on the left.\n",
    "3-4"
   ]
  },
  {
   "cell_type": "code",
   "execution_count": 4,
   "id": "5e60366a",
   "metadata": {},
   "outputs": [
    {
     "data": {
      "text/plain": [
       "12"
      ]
     },
     "execution_count": 4,
     "metadata": {},
     "output_type": "execute_result"
    }
   ],
   "source": [
    "# c. Multiplication(*)\n",
    "# Multiplies the values on either side of the operator.\n",
    "\n",
    "3*4"
   ]
  },
  {
   "cell_type": "code",
   "execution_count": 5,
   "id": "643d5b4a",
   "metadata": {},
   "outputs": [
    {
     "data": {
      "text/plain": [
       "0.75"
      ]
     },
     "execution_count": 5,
     "metadata": {},
     "output_type": "execute_result"
    }
   ],
   "source": [
    "# d. Division(/)\n",
    "# Divides the value on the left by the one on the right. Notice that division results in a floating-point value.\n",
    "\n",
    "3/4"
   ]
  },
  {
   "cell_type": "code",
   "execution_count": 7,
   "id": "74c6cbf8",
   "metadata": {},
   "outputs": [
    {
     "data": {
      "text/plain": [
       "4"
      ]
     },
     "execution_count": 7,
     "metadata": {},
     "output_type": "execute_result"
    }
   ],
   "source": [
    "# e. Exponentiation(**)\n",
    "# Raises the first number to the power of the second.\n",
    "\n",
    "2*2"
   ]
  },
  {
   "cell_type": "code",
   "execution_count": 8,
   "id": "ac0d59ca",
   "metadata": {},
   "outputs": [
    {
     "data": {
      "text/plain": [
       "8"
      ]
     },
     "execution_count": 8,
     "metadata": {},
     "output_type": "execute_result"
    }
   ],
   "source": [
    "2*2*2"
   ]
  },
  {
   "cell_type": "code",
   "execution_count": 9,
   "id": "57f592ed",
   "metadata": {},
   "outputs": [
    {
     "data": {
      "text/plain": [
       "16"
      ]
     },
     "execution_count": 9,
     "metadata": {},
     "output_type": "execute_result"
    }
   ],
   "source": [
    "2*2*2*2"
   ]
  },
  {
   "cell_type": "code",
   "execution_count": 13,
   "id": "1939d8e2",
   "metadata": {},
   "outputs": [
    {
     "data": {
      "text/plain": [
       "0"
      ]
     },
     "execution_count": 13,
     "metadata": {},
     "output_type": "execute_result"
    }
   ],
   "source": [
    "# f. Floor Division(//)\n",
    "# Divides and returns the integer value of the quotient. It dumps the digits after the decimal.\n",
    "\n",
    "3//4"
   ]
  },
  {
   "cell_type": "code",
   "execution_count": 10,
   "id": "6f07ce05",
   "metadata": {},
   "outputs": [
    {
     "data": {
      "text/plain": [
       "4"
      ]
     },
     "execution_count": 10,
     "metadata": {},
     "output_type": "execute_result"
    }
   ],
   "source": [
    "2**2"
   ]
  },
  {
   "cell_type": "code",
   "execution_count": 11,
   "id": "3f9809ae",
   "metadata": {},
   "outputs": [
    {
     "data": {
      "text/plain": [
       "8"
      ]
     },
     "execution_count": 11,
     "metadata": {},
     "output_type": "execute_result"
    }
   ],
   "source": [
    "2**3"
   ]
  },
  {
   "cell_type": "code",
   "execution_count": 12,
   "id": "8c176985",
   "metadata": {},
   "outputs": [
    {
     "data": {
      "text/plain": [
       "16"
      ]
     },
     "execution_count": 12,
     "metadata": {},
     "output_type": "execute_result"
    }
   ],
   "source": [
    "2**4"
   ]
  },
  {
   "cell_type": "code",
   "execution_count": 15,
   "id": "e7986cc7",
   "metadata": {},
   "outputs": [
    {
     "data": {
      "text/plain": [
       "3"
      ]
     },
     "execution_count": 15,
     "metadata": {},
     "output_type": "execute_result"
    }
   ],
   "source": [
    "# g. Modulus(%)\n",
    "# Divides and returns the value of the remainder.\n",
    "\n",
    "3%4"
   ]
  },
  {
   "cell_type": "code",
   "execution_count": 14,
   "id": "d667d14e",
   "metadata": {},
   "outputs": [
    {
     "data": {
      "text/plain": [
       "1"
      ]
     },
     "execution_count": 14,
     "metadata": {},
     "output_type": "execute_result"
    }
   ],
   "source": [
    "10%3"
   ]
  },
  {
   "cell_type": "markdown",
   "id": "1d120681",
   "metadata": {},
   "source": [
    "### Python Relational Operator"
   ]
  },
  {
   "cell_type": "code",
   "execution_count": 16,
   "id": "c1db4b86",
   "metadata": {},
   "outputs": [
    {
     "data": {
      "text/plain": [
       "True"
      ]
     },
     "execution_count": 16,
     "metadata": {},
     "output_type": "execute_result"
    }
   ],
   "source": [
    "# a. Less than(<)\n",
    "# This operator checks if the value on the left of the operator is lesser than the one on the right.\n",
    "\n",
    "3<4"
   ]
  },
  {
   "cell_type": "code",
   "execution_count": 18,
   "id": "22eb1bc5",
   "metadata": {},
   "outputs": [
    {
     "data": {
      "text/plain": [
       "False"
      ]
     },
     "execution_count": 18,
     "metadata": {},
     "output_type": "execute_result"
    }
   ],
   "source": [
    "10<5.0"
   ]
  },
  {
   "cell_type": "code",
   "execution_count": 19,
   "id": "bcb3201b",
   "metadata": {},
   "outputs": [
    {
     "data": {
      "text/plain": [
       "True"
      ]
     },
     "execution_count": 19,
     "metadata": {},
     "output_type": "execute_result"
    }
   ],
   "source": [
    "9==9.0"
   ]
  },
  {
   "cell_type": "code",
   "execution_count": 20,
   "id": "9e63c378",
   "metadata": {},
   "outputs": [
    {
     "data": {
      "text/plain": [
       "False"
      ]
     },
     "execution_count": 20,
     "metadata": {},
     "output_type": "execute_result"
    }
   ],
   "source": [
    "# b. Greater than(>)\n",
    "# It checks if the value on the left of the operator is greater than the one on the right.\n",
    "\n",
    "3>4"
   ]
  },
  {
   "cell_type": "code",
   "execution_count": 3,
   "id": "5f319a85",
   "metadata": {},
   "outputs": [
    {
     "data": {
      "text/plain": [
       "True"
      ]
     },
     "execution_count": 3,
     "metadata": {},
     "output_type": "execute_result"
    }
   ],
   "source": [
    "# c. Less than or equal to(<=)\n",
    "# It checks if the value on the left of the operator is lesser than or equal to the one on the right.\n",
    "7<=7"
   ]
  },
  {
   "cell_type": "code",
   "execution_count": 21,
   "id": "b7c557c2",
   "metadata": {},
   "outputs": [
    {
     "data": {
      "text/plain": [
       "False"
      ]
     },
     "execution_count": 21,
     "metadata": {},
     "output_type": "execute_result"
    }
   ],
   "source": [
    "10<=5"
   ]
  },
  {
   "cell_type": "code",
   "execution_count": 4,
   "id": "aca0087b",
   "metadata": {},
   "outputs": [
    {
     "data": {
      "text/plain": [
       "True"
      ]
     },
     "execution_count": 4,
     "metadata": {},
     "output_type": "execute_result"
    }
   ],
   "source": [
    "# d. Greater than or equal to(>=)\n",
    "# It checks if the value on the left of the operator is greater than or equal to the one on the right.\n",
    "\n",
    "0>=0\n",
    "\n"
   ]
  },
  {
   "cell_type": "code",
   "execution_count": 22,
   "id": "f0f220c2",
   "metadata": {},
   "outputs": [
    {
     "data": {
      "text/plain": [
       "True"
      ]
     },
     "execution_count": 22,
     "metadata": {},
     "output_type": "execute_result"
    }
   ],
   "source": [
    "# e. Equal to(= =)\n",
    "# This operator checks if the value on the left of the operator is equal to the one on the right.\n",
    "\n",
    "# 1 is equal to the Boolean value True, but 2 isn’t. Also, 0 is equal to False.\n",
    "\n",
    "3==3.0\n"
   ]
  },
  {
   "cell_type": "code",
   "execution_count": 24,
   "id": "6b041eea",
   "metadata": {},
   "outputs": [
    {
     "data": {
      "text/plain": [
       "True"
      ]
     },
     "execution_count": 24,
     "metadata": {},
     "output_type": "execute_result"
    }
   ],
   "source": [
    "1==1"
   ]
  },
  {
   "cell_type": "code",
   "execution_count": 25,
   "id": "d151935c",
   "metadata": {},
   "outputs": [
    {
     "data": {
      "text/plain": [
       "True"
      ]
     },
     "execution_count": 25,
     "metadata": {},
     "output_type": "execute_result"
    }
   ],
   "source": [
    "2==2"
   ]
  },
  {
   "cell_type": "code",
   "execution_count": 5,
   "id": "a64ff6d3",
   "metadata": {},
   "outputs": [
    {
     "data": {
      "text/plain": [
       "True"
      ]
     },
     "execution_count": 5,
     "metadata": {},
     "output_type": "execute_result"
    }
   ],
   "source": [
    "1==True\n",
    "\n"
   ]
  },
  {
   "cell_type": "code",
   "execution_count": 26,
   "id": "dfeb7221",
   "metadata": {},
   "outputs": [
    {
     "data": {
      "text/plain": [
       "False"
      ]
     },
     "execution_count": 26,
     "metadata": {},
     "output_type": "execute_result"
    }
   ],
   "source": [
    "2==True"
   ]
  },
  {
   "cell_type": "code",
   "execution_count": 7,
   "id": "f6af4426",
   "metadata": {},
   "outputs": [
    {
     "data": {
      "text/plain": [
       "False"
      ]
     },
     "execution_count": 7,
     "metadata": {},
     "output_type": "execute_result"
    }
   ],
   "source": [
    "7==6"
   ]
  },
  {
   "cell_type": "code",
   "execution_count": 27,
   "id": "9b41b7e1",
   "metadata": {},
   "outputs": [
    {
     "data": {
      "text/plain": [
       "True"
      ]
     },
     "execution_count": 27,
     "metadata": {},
     "output_type": "execute_result"
    }
   ],
   "source": [
    "1==True"
   ]
  },
  {
   "cell_type": "code",
   "execution_count": 28,
   "id": "e7471877",
   "metadata": {},
   "outputs": [
    {
     "data": {
      "text/plain": [
       "True"
      ]
     },
     "execution_count": 28,
     "metadata": {},
     "output_type": "execute_result"
    }
   ],
   "source": [
    "0==False"
   ]
  },
  {
   "cell_type": "code",
   "execution_count": 30,
   "id": "4e7b30ca",
   "metadata": {},
   "outputs": [
    {
     "data": {
      "text/plain": [
       "False"
      ]
     },
     "execution_count": 30,
     "metadata": {},
     "output_type": "execute_result"
    }
   ],
   "source": [
    "# f. Not equal to(!=)\n",
    "# It checks if the value on the left of the operator is not equal to the one on the right.\n",
    "\n",
    "# The Python operator <> does the same job, but has been abandoned in Python 3.\n",
    "\n",
    "# When the condition for a relative operator is fulfilled, it returns True. Otherwise, it returns False. You can use this return value in a further statement or expression.\n",
    "\n",
    "1!=1.0\n",
    "\n",
    "#This causes a syntax error"
   ]
  },
  {
   "cell_type": "code",
   "execution_count": 31,
   "id": "9d4a7c10",
   "metadata": {},
   "outputs": [
    {
     "ename": "SyntaxError",
     "evalue": "invalid syntax (48856008.py, line 1)",
     "output_type": "error",
     "traceback": [
      "\u001b[1;36m  Input \u001b[1;32mIn [31]\u001b[1;36m\u001b[0m\n\u001b[1;33m    -1<>-1.0\u001b[0m\n\u001b[1;37m      ^\u001b[0m\n\u001b[1;31mSyntaxError\u001b[0m\u001b[1;31m:\u001b[0m invalid syntax\n"
     ]
    }
   ],
   "source": [
    "-1<>-1.0\n"
   ]
  },
  {
   "cell_type": "markdown",
   "id": "d34c76bb",
   "metadata": {},
   "source": [
    "# Assignment Operator "
   ]
  },
  {
   "cell_type": "code",
   "execution_count": 15,
   "id": "71450674",
   "metadata": {},
   "outputs": [
    {
     "name": "stdout",
     "output_type": "stream",
     "text": [
      "7\n"
     ]
    }
   ],
   "source": [
    "# a. Assign(=)\n",
    "# Assigns a value to the expression on the left. Notice that = = is used for comparing, but = is used for assigning.\n",
    "\n",
    "a=7\n",
    "print(a)"
   ]
  },
  {
   "cell_type": "code",
   "execution_count": 16,
   "id": "ddbcae68",
   "metadata": {},
   "outputs": [
    {
     "name": "stdout",
     "output_type": "stream",
     "text": [
      "9\n"
     ]
    }
   ],
   "source": [
    "# b. Add and Assign(+=)\n",
    "# Adds the values on either side and assigns it to the expression on the left. a+=10 is the same as a=a+10.\n",
    "\n",
    "# The same goes for all the next assignment operators.\n",
    "\n",
    "a+=2\n",
    "print(a)"
   ]
  },
  {
   "cell_type": "code",
   "execution_count": 17,
   "id": "7e7db8e6",
   "metadata": {},
   "outputs": [
    {
     "name": "stdout",
     "output_type": "stream",
     "text": [
      "7\n"
     ]
    }
   ],
   "source": [
    "# c. Subtract and Assign(-=)\n",
    "# Subtracts the value on the right from the value on the left. Then it assigns it to the expression on the left.\n",
    "\n",
    "a-=2\n",
    "print(a)"
   ]
  },
  {
   "cell_type": "code",
   "execution_count": 18,
   "id": "f3cb51e6",
   "metadata": {},
   "outputs": [
    {
     "name": "stdout",
     "output_type": "stream",
     "text": [
      "1.0\n"
     ]
    }
   ],
   "source": [
    "# d. Divide and Assign(/=)\n",
    "# Divides the value on the left by the one on the right. Then it assigns it to the expression on the left.\n",
    "a/=7\n",
    "print(a)"
   ]
  },
  {
   "cell_type": "code",
   "execution_count": 19,
   "id": "a6eaed52",
   "metadata": {},
   "outputs": [
    {
     "name": "stdout",
     "output_type": "stream",
     "text": [
      "8.0\n"
     ]
    }
   ],
   "source": [
    "# e. Multiply and Assign(*=)\n",
    "# Multiplies the values on either sides. Then it assigns it to the expression on the left.\n",
    "\n",
    "a*=8\n",
    "print(a)"
   ]
  },
  {
   "cell_type": "code",
   "execution_count": 26,
   "id": "bc199798",
   "metadata": {},
   "outputs": [
    {
     "name": "stdout",
     "output_type": "stream",
     "text": [
      "2.0\n"
     ]
    }
   ],
   "source": [
    "# f. Modulus and Assign(%=)\n",
    "# Performs modulus on the values on either side. Then it assigns it to the expression on the left.\n",
    "\n",
    "a%=3\n",
    "print(a)"
   ]
  },
  {
   "cell_type": "code",
   "execution_count": 27,
   "id": "91beca35",
   "metadata": {},
   "outputs": [
    {
     "name": "stdout",
     "output_type": "stream",
     "text": [
      "32.0\n"
     ]
    }
   ],
   "source": [
    "# g. Exponent and Assign(**=)\n",
    "# Performs exponentiation on the values on either side. Then assigns it to the expression on the left.\n",
    "\n",
    "a**=5\n",
    "print(a)"
   ]
  },
  {
   "cell_type": "code",
   "execution_count": 18,
   "id": "f31113a1",
   "metadata": {},
   "outputs": [
    {
     "name": "stdout",
     "output_type": "stream",
     "text": [
      "10.0\n"
     ]
    }
   ],
   "source": [
    "# h. Floor-Divide and Assign(//=)\n",
    "# Performs floor-division on the values on either side. Then assigns it to the expression on the left.\n",
    "\n",
    "a//=3\n",
    "print(a)"
   ]
  },
  {
   "cell_type": "markdown",
   "id": "20939b0e",
   "metadata": {},
   "source": [
    "# 4. Python Logical Operator\n",
    "# These are conjunctions that you can use to combine more than one condition.\n",
    "\n",
    "# We have three Python logical operator – and, or, and not that come under python operators."
   ]
  },
  {
   "cell_type": "code",
   "execution_count": 30,
   "id": "c94b2cad",
   "metadata": {},
   "outputs": [
    {
     "name": "stdout",
     "output_type": "stream",
     "text": [
      "False\n"
     ]
    }
   ],
   "source": [
    "# a. and Operator in Python\n",
    "# If the conditions on both sides of the operator are true, then the expression as a whole is true.\n",
    "\n",
    "a=7>7 and 2>1\n",
    "print(a)\n"
   ]
  },
  {
   "cell_type": "code",
   "execution_count": 31,
   "id": "90c9761a",
   "metadata": {},
   "outputs": [
    {
     "data": {
      "text/plain": [
       "True"
      ]
     },
     "execution_count": 31,
     "metadata": {},
     "output_type": "execute_result"
    }
   ],
   "source": [
    "7==7 or 2<-1"
   ]
  },
  {
   "cell_type": "code",
   "execution_count": 20,
   "id": "70bf3a68",
   "metadata": {},
   "outputs": [
    {
     "name": "stdout",
     "output_type": "stream",
     "text": [
      "True\n"
     ]
    }
   ],
   "source": [
    "# b. or Operator in Python\n",
    "# The expression is false only if both the statements around the operator are false. Otherwise, it is true.\n",
    "\n",
    "a=7>7 or 2>-1\n",
    "print(a)"
   ]
  },
  {
   "cell_type": "code",
   "execution_count": 35,
   "id": "6ea88859",
   "metadata": {},
   "outputs": [],
   "source": [
    "a=7"
   ]
  },
  {
   "cell_type": "code",
   "execution_count": 39,
   "id": "3b9baf41",
   "metadata": {},
   "outputs": [
    {
     "name": "stdout",
     "output_type": "stream",
     "text": [
      "True\n"
     ]
    }
   ],
   "source": [
    "# c. not Operator in Python\n",
    "# This inverts the Boolean value of an expression. It converts True to False, and False to True.\n",
    "\n",
    "# As you can see below, the Boolean value for 0 is False. So, not inverts it to True.\n",
    "\n",
    "a==0\n",
    "a=not(0)\n",
    "print(a)"
   ]
  },
  {
   "cell_type": "code",
   "execution_count": 40,
   "id": "a7a6d395",
   "metadata": {},
   "outputs": [
    {
     "name": "stdout",
     "output_type": "stream",
     "text": [
      "False\n",
      "\n",
      "\n",
      "True\n"
     ]
    }
   ],
   "source": [
    "# 5. Membership Python Operator\n",
    "# These operators test whether a value is a member of a sequence. The sequence may be a list, a string, or a tuple.\n",
    "\n",
    "# We have two membership python operators- ‘in’ and ‘not in’.?\n",
    "# a. in Operator in Python\n",
    "# This checks if a value is a member of a sequence.\n",
    "\n",
    "# In our example, we see that the string ‘fox’ does not belong to the list pets. But the string ‘cat’ belongs to it, so it returns True.\n",
    "\n",
    "# Also, the string ‘me’ is a substring to the string ‘disappointment’. Therefore, it returns true.\n",
    "\n",
    "pets=['dog','cat','ferret']\n",
    "\n",
    "print('fox' in pets)\n",
    "\n",
    "print('\\n')\n",
    "\n",
    "print('cat' in pets)\n"
   ]
  },
  {
   "cell_type": "code",
   "execution_count": 41,
   "id": "65717601",
   "metadata": {},
   "outputs": [
    {
     "data": {
      "text/plain": [
       "True"
      ]
     },
     "execution_count": 41,
     "metadata": {},
     "output_type": "execute_result"
    }
   ],
   "source": [
    "# b. not in Operator in Python\n",
    "# Unlike ‘in’, ‘not in’ checks if a value is not a member of a sequence.\n",
    "\n",
    "'pot' not in 'disappointment'"
   ]
  },
  {
   "cell_type": "code",
   "execution_count": null,
   "id": "a16f5bac",
   "metadata": {},
   "outputs": [],
   "source": [
    "# 6. Python Identity Operator\n",
    "# Let us proceed towards identity Python Operator.\n",
    "\n",
    "# These operators test if the two operands share an identity. We have two identity operators- ‘is’ and ‘is not’.\n",
    "\n"
   ]
  },
  {
   "cell_type": "code",
   "execution_count": 42,
   "id": "df530ece",
   "metadata": {},
   "outputs": [
    {
     "name": "stdout",
     "output_type": "stream",
     "text": [
      "True\n",
      "False\n",
      "True\n"
     ]
    },
    {
     "name": "stderr",
     "output_type": "stream",
     "text": [
      "<>:7: SyntaxWarning: \"is\" with a literal. Did you mean \"==\"?\n",
      "<>:9: SyntaxWarning: \"is\" with a literal. Did you mean \"==\"?\n",
      "<>:11: SyntaxWarning: \"is\" with a literal. Did you mean \"==\"?\n",
      "<>:7: SyntaxWarning: \"is\" with a literal. Did you mean \"==\"?\n",
      "<>:9: SyntaxWarning: \"is\" with a literal. Did you mean \"==\"?\n",
      "<>:11: SyntaxWarning: \"is\" with a literal. Did you mean \"==\"?\n",
      "C:\\Users\\rajat.k.srivastava\\AppData\\Local\\Temp\\ipykernel_3840\\2876443660.py:7: SyntaxWarning: \"is\" with a literal. Did you mean \"==\"?\n",
      "  print(2 is 2)\n",
      "C:\\Users\\rajat.k.srivastava\\AppData\\Local\\Temp\\ipykernel_3840\\2876443660.py:9: SyntaxWarning: \"is\" with a literal. Did you mean \"==\"?\n",
      "  print('2' is '20')\n",
      "C:\\Users\\rajat.k.srivastava\\AppData\\Local\\Temp\\ipykernel_3840\\2876443660.py:11: SyntaxWarning: \"is\" with a literal. Did you mean \"==\"?\n",
      "  print('2' is \"2\")\n"
     ]
    }
   ],
   "source": [
    "# a. is Operator in Python\n",
    "# If two operands have the same identity, it returns True. Otherwise, it returns False. Here, 2 is not the same as 20, so it returns False.\n",
    "\n",
    "# Also, ‘2’ and “2” are the same. The difference in quotes does not make them different. So, it returns True.\n",
    "\n",
    "\n",
    "print(2 is 2)\n",
    "\n",
    "print('2' is '20')\n",
    "\n",
    "print('2' is \"2\")"
   ]
  },
  {
   "cell_type": "code",
   "execution_count": 41,
   "id": "648d6cd2",
   "metadata": {},
   "outputs": [
    {
     "name": "stderr",
     "output_type": "stream",
     "text": [
      "<>:4: SyntaxWarning: \"is not\" with a literal. Did you mean \"!=\"?\n",
      "<>:4: SyntaxWarning: \"is not\" with a literal. Did you mean \"!=\"?\n",
      "C:\\Users\\rajat.k.srivastava\\AppData\\Local\\Temp\\ipykernel_16904\\2384183299.py:4: SyntaxWarning: \"is not\" with a literal. Did you mean \"!=\"?\n",
      "  2 is not '2'\n"
     ]
    },
    {
     "data": {
      "text/plain": [
       "True"
      ]
     },
     "execution_count": 41,
     "metadata": {},
     "output_type": "execute_result"
    }
   ],
   "source": [
    "# b. is not Operator in Python\n",
    "# 2 is a number, and ‘2’ is a string. So, it returns a True to that.\n",
    "\n",
    "2 is not '2'"
   ]
  },
  {
   "cell_type": "code",
   "execution_count": 44,
   "id": "f547058b",
   "metadata": {},
   "outputs": [
    {
     "data": {
      "text/plain": [
       "4"
      ]
     },
     "execution_count": 44,
     "metadata": {},
     "output_type": "execute_result"
    }
   ],
   "source": [
    "# Bit wise operator in python\n",
    "# And opertor \n",
    "\n",
    "4 & 5"
   ]
  },
  {
   "cell_type": "code",
   "execution_count": 45,
   "id": "5c8bf898",
   "metadata": {},
   "outputs": [
    {
     "data": {
      "text/plain": [
       "'0b100'"
      ]
     },
     "execution_count": 45,
     "metadata": {},
     "output_type": "execute_result"
    }
   ],
   "source": [
    "bin(4)"
   ]
  },
  {
   "cell_type": "code",
   "execution_count": 46,
   "id": "ce63be30",
   "metadata": {},
   "outputs": [
    {
     "data": {
      "text/plain": [
       "'0b101'"
      ]
     },
     "execution_count": 46,
     "metadata": {},
     "output_type": "execute_result"
    }
   ],
   "source": [
    "bin(5)"
   ]
  },
  {
   "cell_type": "code",
   "execution_count": 48,
   "id": "339abefc",
   "metadata": {},
   "outputs": [
    {
     "data": {
      "text/plain": [
       "'0b1100110110001'"
      ]
     },
     "execution_count": 48,
     "metadata": {},
     "output_type": "execute_result"
    }
   ],
   "source": [
    "bin(6577)\n",
    "\n"
   ]
  },
  {
   "cell_type": "code",
   "execution_count": 49,
   "id": "bd72f179",
   "metadata": {},
   "outputs": [
    {
     "data": {
      "text/plain": [
       "'0b10101001101010100'"
      ]
     },
     "execution_count": 49,
     "metadata": {},
     "output_type": "execute_result"
    }
   ],
   "source": [
    "bin(86868)"
   ]
  },
  {
   "cell_type": "code",
   "execution_count": 50,
   "id": "223f31c2",
   "metadata": {},
   "outputs": [
    {
     "data": {
      "text/plain": [
       "4368"
      ]
     },
     "execution_count": 50,
     "metadata": {},
     "output_type": "execute_result"
    }
   ],
   "source": [
    "6577 & 86868"
   ]
  },
  {
   "cell_type": "code",
   "execution_count": 52,
   "id": "e5477469",
   "metadata": {},
   "outputs": [
    {
     "data": {
      "text/plain": [
       "'0b100'"
      ]
     },
     "execution_count": 52,
     "metadata": {},
     "output_type": "execute_result"
    }
   ],
   "source": [
    "bin(4)"
   ]
  },
  {
   "cell_type": "code",
   "execution_count": 57,
   "id": "0baa21be",
   "metadata": {},
   "outputs": [
    {
     "data": {
      "text/plain": [
       "4"
      ]
     },
     "execution_count": 57,
     "metadata": {},
     "output_type": "execute_result"
    }
   ],
   "source": [
    "int(0b100)"
   ]
  },
  {
   "cell_type": "code",
   "execution_count": 59,
   "id": "5cf51860",
   "metadata": {},
   "outputs": [
    {
     "data": {
      "text/plain": [
       "4368"
      ]
     },
     "execution_count": 59,
     "metadata": {},
     "output_type": "execute_result"
    }
   ],
   "source": [
    "int(0b1000100010000)"
   ]
  },
  {
   "cell_type": "code",
   "execution_count": null,
   "id": "c8a6ac65",
   "metadata": {},
   "outputs": [],
   "source": []
  }
 ],
 "metadata": {
  "kernelspec": {
   "display_name": "Python 3 (ipykernel)",
   "language": "python",
   "name": "python3"
  },
  "language_info": {
   "codemirror_mode": {
    "name": "ipython",
    "version": 3
   },
   "file_extension": ".py",
   "mimetype": "text/x-python",
   "name": "python",
   "nbconvert_exporter": "python",
   "pygments_lexer": "ipython3",
   "version": "3.9.12"
  }
 },
 "nbformat": 4,
 "nbformat_minor": 5
}
