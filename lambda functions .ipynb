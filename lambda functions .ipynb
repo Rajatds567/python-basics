{
 "cells": [
  {
   "cell_type": "code",
   "execution_count": null,
   "id": "480b0142",
   "metadata": {},
   "outputs": [],
   "source": [
    "a= (lambda x:x*x)"
   ]
  },
  {
   "cell_type": "code",
   "execution_count": 1,
   "id": "d3f952ba",
   "metadata": {},
   "outputs": [],
   "source": [
    "def f(x):\n",
    "    return x + 6"
   ]
  },
  {
   "cell_type": "code",
   "execution_count": 2,
   "id": "3b914573",
   "metadata": {},
   "outputs": [
    {
     "data": {
      "text/plain": [
       "11"
      ]
     },
     "execution_count": 2,
     "metadata": {},
     "output_type": "execute_result"
    }
   ],
   "source": [
    "f(5)"
   ]
  },
  {
   "cell_type": "code",
   "execution_count": 6,
   "id": "c48b07ca",
   "metadata": {},
   "outputs": [
    {
     "ename": "NameError",
     "evalue": "name 'x' is not defined",
     "output_type": "error",
     "traceback": [
      "\u001b[1;31m---------------------------------------------------------------------------\u001b[0m",
      "\u001b[1;31mNameError\u001b[0m                                 Traceback (most recent call last)",
      "Input \u001b[1;32mIn [6]\u001b[0m, in \u001b[0;36m<cell line: 1>\u001b[1;34m()\u001b[0m\n\u001b[1;32m----> 1\u001b[0m f \u001b[38;5;241m=\u001b[39m \u001b[38;5;28;01mlambda\u001b[39;00m x,y: x\u001b[38;5;241m+\u001b[39my,\u001b[43mx\u001b[49m\u001b[38;5;241m*\u001b[39my\n",
      "\u001b[1;31mNameError\u001b[0m: name 'x' is not defined"
     ]
    }
   ],
   "source": [
    "f = lambda x,y: x+y"
   ]
  },
  {
   "cell_type": "code",
   "execution_count": 5,
   "id": "c524a611",
   "metadata": {},
   "outputs": [
    {
     "data": {
      "text/plain": [
       "7"
      ]
     },
     "execution_count": 5,
     "metadata": {},
     "output_type": "execute_result"
    }
   ],
   "source": [
    "f(3,4)"
   ]
  },
  {
   "cell_type": "code",
   "execution_count": 1,
   "id": "5b4e59a2",
   "metadata": {},
   "outputs": [],
   "source": [
    "def fun1(x):\n",
    "    return(x*x)"
   ]
  },
  {
   "cell_type": "code",
   "execution_count": 2,
   "id": "b888505b",
   "metadata": {},
   "outputs": [
    {
     "data": {
      "text/plain": [
       "9"
      ]
     },
     "execution_count": 2,
     "metadata": {},
     "output_type": "execute_result"
    }
   ],
   "source": [
    "fun1(3)"
   ]
  },
  {
   "cell_type": "code",
   "execution_count": 7,
   "id": "51d357ad",
   "metadata": {},
   "outputs": [],
   "source": [
    "fun1 = lambda x:x*x"
   ]
  },
  {
   "cell_type": "code",
   "execution_count": 8,
   "id": "aa76d67d",
   "metadata": {},
   "outputs": [
    {
     "data": {
      "text/plain": [
       "9"
      ]
     },
     "execution_count": 8,
     "metadata": {},
     "output_type": "execute_result"
    }
   ],
   "source": [
    "fun1(3)"
   ]
  },
  {
   "cell_type": "code",
   "execution_count": 6,
   "id": "19e1cfd6",
   "metadata": {},
   "outputs": [
    {
     "data": {
      "text/plain": [
       "9"
      ]
     },
     "execution_count": 6,
     "metadata": {},
     "output_type": "execute_result"
    }
   ],
   "source": [
    "f(3)"
   ]
  },
  {
   "cell_type": "code",
   "execution_count": 8,
   "id": "0e09b5fd",
   "metadata": {},
   "outputs": [],
   "source": [
    "def f1(a,b):\n",
    "    return(a+b)"
   ]
  },
  {
   "cell_type": "code",
   "execution_count": 9,
   "id": "8a123774",
   "metadata": {},
   "outputs": [],
   "source": [
    "f1= lambda a,b,c,d,e,f :((a+b)*(c+d))/(e+f)"
   ]
  },
  {
   "cell_type": "code",
   "execution_count": 10,
   "id": "377c0edc",
   "metadata": {},
   "outputs": [
    {
     "data": {
      "text/plain": [
       "1.9090909090909092"
      ]
     },
     "execution_count": 10,
     "metadata": {},
     "output_type": "execute_result"
    }
   ],
   "source": [
    "f1(1,2,3,4,5,6)"
   ]
  },
  {
   "cell_type": "code",
   "execution_count": 11,
   "id": "bae73908",
   "metadata": {},
   "outputs": [],
   "source": [
    "f2= lambda x ,y : x-y"
   ]
  },
  {
   "cell_type": "code",
   "execution_count": 12,
   "id": "0b001b4d",
   "metadata": {},
   "outputs": [
    {
     "data": {
      "text/plain": [
       "-1"
      ]
     },
     "execution_count": 12,
     "metadata": {},
     "output_type": "execute_result"
    }
   ],
   "source": [
    "f2(5,6)"
   ]
  },
  {
   "cell_type": "code",
   "execution_count": 13,
   "id": "ca4ec956",
   "metadata": {},
   "outputs": [],
   "source": [
    "f3= lambda x ,y : x/y"
   ]
  },
  {
   "cell_type": "code",
   "execution_count": 15,
   "id": "65fbf86c",
   "metadata": {},
   "outputs": [
    {
     "data": {
      "text/plain": [
       "0.8333333333333334"
      ]
     },
     "execution_count": 15,
     "metadata": {},
     "output_type": "execute_result"
    }
   ],
   "source": [
    "f3(5,6)"
   ]
  },
  {
   "cell_type": "code",
   "execution_count": 12,
   "id": "39226bbc",
   "metadata": {},
   "outputs": [],
   "source": [
    "f11=lambda x,y : x+y"
   ]
  },
  {
   "cell_type": "code",
   "execution_count": 11,
   "id": "5ca0f2f4",
   "metadata": {},
   "outputs": [
    {
     "data": {
      "text/plain": [
       "5"
      ]
     },
     "execution_count": 11,
     "metadata": {},
     "output_type": "execute_result"
    }
   ],
   "source": [
    "f1(2,3)"
   ]
  },
  {
   "cell_type": "code",
   "execution_count": 13,
   "id": "0df0b182",
   "metadata": {},
   "outputs": [
    {
     "data": {
      "text/plain": [
       "5"
      ]
     },
     "execution_count": 13,
     "metadata": {},
     "output_type": "execute_result"
    }
   ],
   "source": [
    "f11(2,3)"
   ]
  },
  {
   "cell_type": "markdown",
   "id": "ce20f472",
   "metadata": {},
   "source": [
    "### Fliter "
   ]
  },
  {
   "cell_type": "code",
   "execution_count": 14,
   "id": "a93c7fb5",
   "metadata": {},
   "outputs": [
    {
     "data": {
      "text/plain": [
       "[6, 28]"
      ]
     },
     "execution_count": 14,
     "metadata": {},
     "output_type": "execute_result"
    }
   ],
   "source": [
    "special_nums = [0.577, 1.618, 2.718, 3.14, 6, 28, 37, 1729]\n",
    "new_list = list(filter(lambda x:(x%2==0),special_nums))\n",
    "new_list"
   ]
  },
  {
   "cell_type": "markdown",
   "id": "e84c6f67",
   "metadata": {},
   "source": [
    "### Map"
   ]
  },
  {
   "cell_type": "code",
   "execution_count": 21,
   "id": "b3b52694",
   "metadata": {},
   "outputs": [
    {
     "data": {
      "text/plain": [
       "2.885"
      ]
     },
     "execution_count": 21,
     "metadata": {},
     "output_type": "execute_result"
    }
   ],
   "source": [
    "f1=lambda x: x*5\n",
    "f1(.577)"
   ]
  },
  {
   "cell_type": "code",
   "execution_count": 22,
   "id": "de68ceea",
   "metadata": {},
   "outputs": [
    {
     "name": "stdout",
     "output_type": "stream",
     "text": [
      "[2.885, 8.09, 13.59, 15.700000000000001, 30, 140, 185, 8645]\n"
     ]
    }
   ],
   "source": [
    "# This program will multiplicate each element of the list with 5 and followed by power of 2.\n",
    "special_nums = [0.577, 1.618, 2.718, 3.14, 6, 28, 37, 1729]\n",
    "non_special_nums_1 = list(map(lambda x: x*5, special_nums))\n",
    "print(non_special_nums_1)"
   ]
  },
  {
   "cell_type": "code",
   "execution_count": 35,
   "id": "7163dddc",
   "metadata": {},
   "outputs": [
    {
     "name": "stdout",
     "output_type": "stream",
     "text": [
      "[0.332929, 2.6179240000000004, 7.387524, 9.8596, 36, 784, 1369, 2989441]\n"
     ]
    }
   ],
   "source": [
    "non_special_nums_2 = list(map(lambda x:x*x, special_nums))\n",
    "print(non_special_nums_2)"
   ]
  },
  {
   "cell_type": "code",
   "execution_count": 17,
   "id": "111eb015",
   "metadata": {},
   "outputs": [
    {
     "data": {
      "text/plain": [
       "0.332929"
      ]
     },
     "execution_count": 17,
     "metadata": {},
     "output_type": "execute_result"
    }
   ],
   "source": [
    "pow (0.577,2)"
   ]
  },
  {
   "cell_type": "code",
   "execution_count": 34,
   "id": "7b13db2b",
   "metadata": {},
   "outputs": [
    {
     "name": "stdout",
     "output_type": "stream",
     "text": [
      "3.14\n",
      "4.140000000000001\n",
      "5.140000000000001\n",
      "6.140000000000001\n",
      "7.140000000000001\n"
     ]
    }
   ],
   "source": [
    "nums = [lambda a=a:a+3.14 for a in range(5)]#(01234)\n",
    "nums\n",
    "for num in nums:\n",
    "    print(num())"
   ]
  },
  {
   "cell_type": "code",
   "execution_count": 1,
   "id": "5289ed28",
   "metadata": {},
   "outputs": [
    {
     "name": "stdout",
     "output_type": "stream",
     "text": [
      "Enter an age: 23\n",
      "The entered age is 23.\n",
      "Therefore, you can use a vote.\n"
     ]
    }
   ],
   "source": [
    "age = int(input('Enter an age: '))\n",
    "print(f'The entered age is {age}.')\n",
    "vote = lambda age: print('Therefore, you can use a vote.') if (age>=18) else print('Therefore, you can not use a vote.')\n",
    "vote(age)"
   ]
  },
  {
   "cell_type": "code",
   "execution_count": 4,
   "id": "90180ff1",
   "metadata": {},
   "outputs": [
    {
     "name": "stdout",
     "output_type": "stream",
     "text": [
      "The maximum of special numbers in each list is [3.14, 1729].\n",
      "The minimum of special numbers in each list is [0.577, 6].\n",
      "The second maximum of special numbers in each list is [2.718, 37].\n"
     ]
    }
   ],
   "source": [
    "special_nums = [[0.577, 1.618, 2.718, 3.14], [6, 28, 37, 1729]]\n",
    "special_nums_sorted = lambda a: (sorted(i) for i in a)\n",
    "\n",
    "# Get the maximum of special numbers in the list\n",
    "special_nums_max = lambda a, f: [y[len(y)-1] for y in f(a)]\n",
    "print(f'The maximum of special numbers in each list is {special_nums_max(special_nums, special_nums_sorted)}.')\n",
    "# Get the minimum of special numbers in the list\n",
    "special_nums_min = lambda a, f: [y[len(y)-len(y)] for y in f(a)]\n",
    "print(f'The minimum of special numbers in each list is {special_nums_min(special_nums, special_nums_sorted)}.')\n",
    "# Get the second maximum of special numbers in the list\n",
    "special_nums_second_max = lambda a, f: [y[len(y)-2] for y in f(a)]\n",
    "print(f'The second maximum of special numbers in each list is {special_nums_second_max(special_nums, special_nums_sorted)}.')"
   ]
  },
  {
   "cell_type": "code",
   "execution_count": 5,
   "id": "a37d0f72",
   "metadata": {},
   "outputs": [
    {
     "name": "stdout",
     "output_type": "stream",
     "text": [
      "The multiplication of euler number and pi number is equal to 8.53452.\n",
      "The multiplication of euler number and euler constant is equal to 1.5682859999999998.\n"
     ]
    }
   ],
   "source": [
    "def func(n):\n",
    "    return lambda x: x*n\n",
    "mult_pi_number = func(3.14)\n",
    "mult_euler_constant = func(0.577)\n",
    "print(f'The multiplication of euler number and pi number is equal to {mult_pi_number(2.718)}.')\n",
    "print(f'The multiplication of euler number and euler constant is equal to {mult_euler_constant(2.718)}.')"
   ]
  },
  {
   "cell_type": "code",
   "execution_count": null,
   "id": "66cda124",
   "metadata": {},
   "outputs": [],
   "source": [
    "!pip install  \n",
    "\n",
    "conda install"
   ]
  },
  {
   "cell_type": "code",
   "execution_count": 6,
   "id": "19c5587b",
   "metadata": {},
   "outputs": [
    {
     "name": "stdout",
     "output_type": "stream",
     "text": [
      "The sum and average of the numbers in the list are 1808.0529999999999 and 226.00662499999999, respectively.\n"
     ]
    }
   ],
   "source": [
    "import functools\n",
    "from functools import *\n",
    "special_nums = [0.577, 1.618, 2.718, 3.14, 6, 28, 37, 1729]\n",
    "total = reduce((lambda a, b: a+b), special_nums)\n",
    "print(f'The sum and average of the numbers in the list are {total} and {total/len(special_nums)}, respectively.')"
   ]
  },
  {
   "cell_type": "code",
   "execution_count": null,
   "id": "e3f12f1c",
   "metadata": {},
   "outputs": [],
   "source": []
  },
  {
   "cell_type": "code",
   "execution_count": null,
   "id": "9a6a7287",
   "metadata": {},
   "outputs": [],
   "source": []
  }
 ],
 "metadata": {
  "kernelspec": {
   "display_name": "Python 3 (ipykernel)",
   "language": "python",
   "name": "python3"
  },
  "language_info": {
   "codemirror_mode": {
    "name": "ipython",
    "version": 3
   },
   "file_extension": ".py",
   "mimetype": "text/x-python",
   "name": "python",
   "nbconvert_exporter": "python",
   "pygments_lexer": "ipython3",
   "version": "3.9.12"
  }
 },
 "nbformat": 4,
 "nbformat_minor": 5
}
